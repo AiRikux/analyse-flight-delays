{
 "cells": [
  {
   "cell_type": "markdown",
   "id": "efe06422",
   "metadata": {},
   "source": [
    "# Assignment 2A\n",
    "\n",
    "**Name:** Nabilah Anuwar\n",
    "\n",
    "**Student ID:** 31282016"
   ]
  },
  {
   "cell_type": "markdown",
   "id": "0f8dc4c8",
   "metadata": {},
   "source": [
    "# Data Loading, Cleaning, Labelling, and Exploration (45%)\n",
    "\n",
    "## Data Loading\n",
    "\n"
   ]
  }
 ],
 "metadata": {
  "kernelspec": {
   "display_name": "Python 3 (ipykernel)",
   "language": "python",
   "name": "python3"
  },
  "language_info": {
   "codemirror_mode": {
    "name": "ipython",
    "version": 3
   },
   "file_extension": ".py",
   "mimetype": "text/x-python",
   "name": "python",
   "nbconvert_exporter": "python",
   "pygments_lexer": "ipython3",
   "version": "3.8.2"
  }
 },
 "nbformat": 4,
 "nbformat_minor": 5
}
