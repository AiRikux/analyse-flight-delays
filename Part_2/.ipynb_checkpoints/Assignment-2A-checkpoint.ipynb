{
 "cells": [
  {
   "cell_type": "markdown",
   "id": "a699e9a3",
   "metadata": {},
   "source": [
    "# Assignment 2A\n",
    "\n",
    "**Name:** Nabilah Anuwar\n",
    "\n",
    "**Student ID:** 31282016"
   ]
  },
  {
   "cell_type": "markdown",
   "id": "ee57422d",
   "metadata": {},
   "source": [
    "# 1. Data Loading, Cleaning, Labelling, and Exploration (45%)\n",
    "\n",
    "## 1.1 Data Loading"
   ]
  },
  {
   "cell_type": "code",
   "execution_count": 14,
   "id": "c6b4c649",
   "metadata": {},
   "outputs": [],
   "source": [
    "from pyspark import SparkConf\n",
    "master = \"local[*]\"\n",
    "app_name = \"31282016 Assignment 2A\"\n",
    "spark_conf = SparkConf().setMaster(master).setAppName(app_name)\n",
    "\n",
    "from pyspark import SparkContext\n",
    "from pyspark.sql import SparkSession\n",
    "\n",
    "spark = SparkSession.builder.config(conf = spark_conf).getOrCreate()\n",
    "sc = spark.sparkContext\n",
    "sc.setLogLevel(\"ERROR\")"
   ]
  },
  {
   "cell_type": "code",
   "execution_count": 15,
   "id": "0349a604",
   "metadata": {},
   "outputs": [
    {
     "name": "stderr",
     "output_type": "stream",
     "text": [
      "\r",
      "[Stage 7:=============================================>           (16 + 4) / 20]\r",
      "\r",
      "                                                                                \r"
     ]
    }
   ],
   "source": [
    "flightsRawDf = spark.read.csv(\"flight-delays/flight*.csv\", header = True, inferSchema = True)"
   ]
  },
  {
   "cell_type": "code",
   "execution_count": 16,
   "id": "a7c5c4d6",
   "metadata": {},
   "outputs": [],
   "source": [
    "allColumnFlights = flightsRawDf.count()"
   ]
  },
  {
   "cell_type": "code",
   "execution_count": null,
   "id": "6ce28b8f",
   "metadata": {},
   "outputs": [],
   "source": []
  }
 ],
 "metadata": {
  "kernelspec": {
   "display_name": "Python 3 (ipykernel)",
   "language": "python",
   "name": "python3"
  },
  "language_info": {
   "codemirror_mode": {
    "name": "ipython",
    "version": 3
   },
   "file_extension": ".py",
   "mimetype": "text/x-python",
   "name": "python",
   "nbconvert_exporter": "python",
   "pygments_lexer": "ipython3",
   "version": "3.8.2"
  }
 },
 "nbformat": 4,
 "nbformat_minor": 5
}
