{
 "cells": [
  {
   "cell_type": "markdown",
   "metadata": {},
   "source": [
    "# Assignment 2A\n",
    "\n",
    "**Name:** Nabilah Anuwar\n",
    "\n",
    "**Student ID:** 31282016"
   ]
  },
  {
   "cell_type": "code",
   "execution_count": 10,
   "metadata": {},
   "outputs": [],
   "source": [
    "from pyspark.sql.types import *\n",
    "from pyspark.sql.functions import isnan, when, count, col"
   ]
  },
  {
   "cell_type": "markdown",
   "metadata": {},
   "source": [
    "# 1. Data Loading, Cleaning, Labelling, and Exploration (45%)\n",
    "\n",
    "## 1.1 Data Loading"
   ]
  },
  {
   "cell_type": "code",
   "execution_count": 1,
   "metadata": {},
   "outputs": [],
   "source": [
    "from pyspark import SparkConf\n",
    "master = \"local[*]\"\n",
    "app_name = \"31282016 Assignment 2A\"\n",
    "spark_conf = SparkConf().setMaster(master).setAppName(app_name)\n",
    "\n",
    "from pyspark import SparkContext\n",
    "from pyspark.sql import SparkSession\n",
    "\n",
    "spark = SparkSession.builder.config(conf = spark_conf).getOrCreate()\n",
    "sc = spark.sparkContext\n",
    "sc.setLogLevel(\"ERROR\")"
   ]
  },
  {
   "cell_type": "code",
   "execution_count": 2,
   "metadata": {},
   "outputs": [],
   "source": [
    "flightsRawDf = spark.read.csv(\"flight-delays/flight*.csv\", header = True, inferSchema = True)"
   ]
  },
  {
   "cell_type": "code",
   "execution_count": 3,
   "metadata": {},
   "outputs": [],
   "source": [
    "allColumnFlights = flightsRawDf.count()"
   ]
  },
  {
   "cell_type": "markdown",
   "metadata": {},
   "source": [
    "## 1.2 Data Cleaning\n",
    "\n",
    "### Part 1"
   ]
  },
  {
   "cell_type": "code",
   "execution_count": 167,
   "metadata": {},
   "outputs": [],
   "source": [
    "schema1 = StructType([\n",
    "    StructField(\"column_name\", StringType()),\n",
    "    StructField(\"no_of_row\", IntegerType()),\n",
    "    StructField(\"missing_percentage\", FloatType())\n",
    "])\n",
    "\n",
    "def calc_miss(df, schema):\n",
    "    col_name = df.columns\n",
    "    total_col = df.count()\n",
    "    result = []\n",
    "    # https://www.datasciencemadesimple.com/count-of-missing-nanna-and-null-values-in-pyspark/\n",
    "    total_miss = df.select([count(when(isnan(c) | col(c).isNull(), c)).alias(c) for c in df.columns]).collect()[0]\n",
    "    \n",
    "    for c in col_name:\n",
    "        a_row = [c, total_miss[c], round((total_miss[c]/total_col)*100,2)]\n",
    "        result.append(a_row)\n",
    "        \n",
    "    the_df = spark.createDataFrame(result, schema = schema).orderBy(col(\"missing_percentage\").desc(), col(\"no_of_row\").desc())\n",
    "    return the_df"
   ]
  },
  {
   "cell_type": "code",
   "execution_count": 88,
   "metadata": {
    "scrolled": false
   },
   "outputs": [
    {
     "name": "stdout",
     "output_type": "stream",
     "text": [
      "+-------------------+---------+------------------+\n",
      "|        column_name|no_of_row|missing_percentage|\n",
      "+-------------------+---------+------------------+\n",
      "|CANCELLATION_REASON|   573213|             98.46|\n",
      "|      AIRLINE_DELAY|   475831|             81.73|\n",
      "|LATE_AIRCRAFT_DELAY|   475831|             81.73|\n",
      "|      WEATHER_DELAY|   475831|             81.73|\n",
      "|   AIR_SYSTEM_DELAY|   475831|             81.73|\n",
      "|     SECURITY_DELAY|   475831|             81.73|\n",
      "|      ARRIVAL_DELAY|    10455|               1.8|\n",
      "|       ELAPSED_TIME|    10455|               1.8|\n",
      "|           AIR_TIME|    10455|               1.8|\n",
      "|            TAXI_IN|     9257|              1.59|\n",
      "|       ARRIVAL_TIME|     9257|              1.59|\n",
      "|          WHEELS_ON|     9257|              1.59|\n",
      "|         WHEELS_OFF|     8891|              1.53|\n",
      "|           TAXI_OUT|     8891|              1.53|\n",
      "|     DEPARTURE_TIME|     8633|              1.48|\n",
      "|    DEPARTURE_DELAY|     8633|              1.48|\n",
      "|        TAIL_NUMBER|     1462|              0.25|\n",
      "|     SCHEDULED_TIME|        1|               0.0|\n",
      "|           DISTANCE|        0|               0.0|\n",
      "|          CANCELLED|        0|               0.0|\n",
      "|  SCHEDULED_ARRIVAL|        0|               0.0|\n",
      "|               YEAR|        0|               0.0|\n",
      "|                DAY|        0|               0.0|\n",
      "|            AIRLINE|        0|               0.0|\n",
      "|           DIVERTED|        0|               0.0|\n",
      "|              MONTH|        0|               0.0|\n",
      "|        DAY_OF_WEEK|        0|               0.0|\n",
      "|     ORIGIN_AIRPORT|        0|               0.0|\n",
      "|SCHEDULED_DEPARTURE|        0|               0.0|\n",
      "|      FLIGHT_NUMBER|        0|               0.0|\n",
      "|DESTINATION_AIRPORT|        0|               0.0|\n",
      "+-------------------+---------+------------------+\n",
      "\n"
     ]
    }
   ],
   "source": [
    "calc_miss(flightsRawDf, schema1).show(len(flightsRawDf.columns))"
   ]
  },
  {
   "cell_type": "markdown",
   "metadata": {},
   "source": [
    "#### CANCELLATION_REASON\n",
    "\n",
    "This would require the flight to be cancelled. If it is not then it wouldn't be filled. This can be checked below."
   ]
  },
  {
   "cell_type": "code",
   "execution_count": 86,
   "metadata": {},
   "outputs": [
    {
     "data": {
      "text/plain": [
       "573213"
      ]
     },
     "execution_count": 86,
     "metadata": {},
     "output_type": "execute_result"
    }
   ],
   "source": [
    "flightsRawDf.select(\"CANCELLED\").filter(col(\"CANCELLED\")==0).count()"
   ]
  },
  {
   "cell_type": "markdown",
   "metadata": {},
   "source": [
    "The number above matched on why there are empty rows in the `CANCELLATION_REASON` as the flights listed here isn't cancelled.\n",
    "\n",
    "#### AIRLINE_DELAY, LATE_AIRCRAFT_DELAY, WEATHER_DELAY, AIR_SYSTEM_DELAY, SECURITY_DELAY\n",
    "\n",
    "Seems to be empty simultaneously. They are columns based on input not calculations. Thus we can say they are missing due to human error.\n",
    "\n",
    "#### ELAPSED_TIME\n",
    "\n",
    "`ELAPSED_TIME` have a dependency on `AIR_TIME`, thus if `AIR_TIME` is missing it is possible that this will cause nulls.\n",
    "\n",
    "#### ARRIVAL_DELAY\n",
    "\n",
    "This column have a dependency on `ARRIVAL_TIME` and `SCHEDULED_ARRIVAL`, thus null `ARRIVAL_TIME` can cause nulls in this column\n",
    "\n",
    "#### AIR_TIME\n",
    "\n",
    "Though not on calculation based, the information is still based on `WHEELS_ON` and `WHEELS_OFF` thus having nulls in these columns can result in nulls in `AIR_TIME`\n",
    "\n",
    "#### TAXI_IN, ARRIVAL_TIME, WHEELS_ON\n",
    "\n",
    "`ARRIVAL_TIME` have dependencies on the other two. If there are nulls in these columns the resulting output will most likely be null. There are equal amount of nulls here which means the missing row does not have any information on any of these columns.\n",
    "\n",
    "#### TAXI_OUT, WHEELS_OFF\n",
    "\n",
    "Though not a calculated column, `TAXI_OUT` still depends on `WHEELS_OFF` column. Time duration elapsed between departure cannot be calculated without `WHEELS_OFF` time.\n",
    "\n",
    "#### DEPARTURE_DELAY, DEPARTURE_TIME\n",
    "\n",
    "Without `DEPARTURE_TIME`, `DEPARTURE_DELAY` cannot be calculated, again, even though it is not a calculated column.\n",
    "\n",
    "#### TAIL_NUMBER\n",
    "\n",
    "This column could be missing at random as it fully depend on human input. \n",
    "\n",
    "### Part 2"
   ]
  },
  {
   "cell_type": "code",
   "execution_count": 149,
   "metadata": {},
   "outputs": [],
   "source": [
    "x = 10\n",
    "\n",
    "def find_removed_columns(x, flightsRawDf):\n",
    "    data = calc_miss(flightsRawDf, schema1)\n",
    "    filtered = data.filter(col(\"missing_percentage\") > x).select(\"column_name\").collect()\n",
    "    removedColumns = [str(row['column_name']) for row in filtered]\n",
    "    return removedColumns"
   ]
  },
  {
   "cell_type": "code",
   "execution_count": 150,
   "metadata": {},
   "outputs": [],
   "source": [
    "def eliminate_columns(removedColumns, flightsRawDf):\n",
    "    flightsRawDf = flightsRawDf.drop(*[str(x) for x in removedColumns])\n",
    "    return flightsRawDf"
   ]
  },
  {
   "cell_type": "code",
   "execution_count": 154,
   "metadata": {
    "scrolled": true
   },
   "outputs": [
    {
     "name": "stdout",
     "output_type": "stream",
     "text": [
      "The number of columns are 25\n",
      "The number of rows are 582184\n"
     ]
    }
   ],
   "source": [
    "q122 = eliminate_columns(find_removed_columns(x, flightsRawDf), flightsRawDf)\n",
    "print(f\"The number of columns are {len(q122.columns)}\")\n",
    "print(f\"The number of rows are {q122.count()}\")"
   ]
  },
  {
   "cell_type": "code",
   "execution_count": 170,
   "metadata": {},
   "outputs": [
    {
     "name": "stdout",
     "output_type": "stream",
     "text": [
      "The number of columns are 25\n",
      "The number of rows are 571729\n"
     ]
    }
   ],
   "source": [
    "flightsDf = q122.na.drop(\"any\")\n",
    "print(f\"The number of columns are {len(flightsDf.columns)}\")\n",
    "print(f\"The number of rows are {flightsDf.count()}\")"
   ]
  },
  {
   "cell_type": "markdown",
   "metadata": {},
   "source": [
    "## 1.3 Data Labelling\n",
    "\n",
    "### Part 1"
   ]
  },
  {
   "cell_type": "code",
   "execution_count": 175,
   "metadata": {},
   "outputs": [],
   "source": [
    "flightsDf = flightsDf.withColumn(\"binaryArrDelay\", when(col(\"ARRIVAL_DELAY\")> 0,1).otherwise(0)).withColumn(\"binaryDeptDelay\", when(col(\"DEPARTURE_DELAY\")>0,1).otherwise(0))"
   ]
  },
  {
   "cell_type": "markdown",
   "metadata": {},
   "source": [
    "### Part 2\n",
    "\n",
    "Here we classify:\n",
    "\n",
    "* negative values or less than 5 as *early* or 0\n",
    "\n",
    "* the value between 5 and 20 (inclusive) as *on time* or 1\n",
    "\n",
    "* positive values or more than 20 as *late* or 2"
   ]
  },
  {
   "cell_type": "code",
   "execution_count": 182,
   "metadata": {},
   "outputs": [],
   "source": [
    "flightsDf = flightsDf.withColumn(\"multiclassArrDelay\", when(col(\"ARRIVAL_DELAY\")> 20,2).when(col(\"ARRIVAL_DELAY\") < 5,0).otherwise(1))\\\n",
    ".withColumn(\"multiclassDeptDelay\", when(col(\"DEPARTURE_DELAY\")> 20,2).when(col(\"DEPARTURE_DELAY\") < 5,0).otherwise(1))"
   ]
  },
  {
   "cell_type": "code",
   "execution_count": null,
   "metadata": {},
   "outputs": [],
   "source": []
  }
 ],
 "metadata": {
  "kernelspec": {
   "display_name": "Python 3",
   "language": "python",
   "name": "python3"
  },
  "language_info": {
   "codemirror_mode": {
    "name": "ipython",
    "version": 3
   },
   "file_extension": ".py",
   "mimetype": "text/x-python",
   "name": "python",
   "nbconvert_exporter": "python",
   "pygments_lexer": "ipython3",
   "version": "3.8.2"
  }
 },
 "nbformat": 4,
 "nbformat_minor": 5
}
