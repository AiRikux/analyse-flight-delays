{
 "cells": [
  {
   "cell_type": "markdown",
   "metadata": {},
   "source": [
    "# Assignment 2A\n",
    "\n",
    "**Name:** Nabilah Anuwar\n",
    "\n",
    "**Student ID:** 31282016"
   ]
  },
  {
   "cell_type": "code",
   "execution_count": 94,
   "metadata": {},
   "outputs": [],
   "source": [
    "from pyspark.sql.types import *\n",
    "from pyspark.sql.functions import isnan, when, count, col\n",
    "import pyspark.sql.functions as F\n",
    "import numpy as np"
   ]
  },
  {
   "cell_type": "markdown",
   "metadata": {},
   "source": [
    "# 1. Data Loading, Cleaning, Labelling, and Exploration (45%)\n",
    "\n",
    "## 1.1 Data Loading"
   ]
  },
  {
   "cell_type": "code",
   "execution_count": 2,
   "metadata": {},
   "outputs": [],
   "source": [
    "from pyspark import SparkConf\n",
    "master = \"local[*]\"\n",
    "app_name = \"31282016 Assignment 2A\"\n",
    "spark_conf = SparkConf().setMaster(master).setAppName(app_name)\n",
    "\n",
    "from pyspark import SparkContext\n",
    "from pyspark.sql import SparkSession\n",
    "\n",
    "spark = SparkSession.builder.config(conf = spark_conf).getOrCreate()\n",
    "sc = spark.sparkContext\n",
    "sc.setLogLevel(\"ERROR\")"
   ]
  },
  {
   "cell_type": "code",
   "execution_count": 3,
   "metadata": {},
   "outputs": [],
   "source": [
    "flightsRawDf = spark.read.csv(\"flight-delays/flight*.csv\", header = True, inferSchema = True)"
   ]
  },
  {
   "cell_type": "code",
   "execution_count": 4,
   "metadata": {},
   "outputs": [],
   "source": [
    "allColumnFlights = flightsRawDf.count()"
   ]
  },
  {
   "cell_type": "markdown",
   "metadata": {},
   "source": [
    "## 1.2 Data Cleaning\n",
    "\n",
    "### Part 1"
   ]
  },
  {
   "cell_type": "code",
   "execution_count": 5,
   "metadata": {},
   "outputs": [],
   "source": [
    "schema1 = StructType([\n",
    "    StructField(\"column_name\", StringType()),\n",
    "    StructField(\"no_of_row\", IntegerType()),\n",
    "    StructField(\"missing_percentage\", FloatType())\n",
    "])\n",
    "\n",
    "def calc_miss(df, schema):\n",
    "    col_name = df.columns\n",
    "    total_col = df.count()\n",
    "    result = []\n",
    "    # https://www.datasciencemadesimple.com/count-of-missing-nanna-and-null-values-in-pyspark/\n",
    "    total_miss = df.select([count(when(isnan(c) | col(c).isNull(), c)).alias(c) for c in df.columns]).collect()[0]\n",
    "    \n",
    "    for c in col_name:\n",
    "        a_row = [c, total_miss[c], round((total_miss[c]/total_col)*100,2)]\n",
    "        result.append(a_row)\n",
    "        \n",
    "    the_df = spark.createDataFrame(result, schema = schema).orderBy(col(\"missing_percentage\").desc(), col(\"no_of_row\").desc())\n",
    "    return the_df"
   ]
  },
  {
   "cell_type": "code",
   "execution_count": 6,
   "metadata": {
    "scrolled": false
   },
   "outputs": [
    {
     "name": "stdout",
     "output_type": "stream",
     "text": [
      "+-------------------+---------+------------------+\n",
      "|        column_name|no_of_row|missing_percentage|\n",
      "+-------------------+---------+------------------+\n",
      "|CANCELLATION_REASON|   573213|             98.46|\n",
      "|      AIRLINE_DELAY|   475831|             81.73|\n",
      "|LATE_AIRCRAFT_DELAY|   475831|             81.73|\n",
      "|      WEATHER_DELAY|   475831|             81.73|\n",
      "|   AIR_SYSTEM_DELAY|   475831|             81.73|\n",
      "|     SECURITY_DELAY|   475831|             81.73|\n",
      "|       ELAPSED_TIME|    10455|               1.8|\n",
      "|      ARRIVAL_DELAY|    10455|               1.8|\n",
      "|           AIR_TIME|    10455|               1.8|\n",
      "|            TAXI_IN|     9257|              1.59|\n",
      "|       ARRIVAL_TIME|     9257|              1.59|\n",
      "|          WHEELS_ON|     9257|              1.59|\n",
      "|           TAXI_OUT|     8891|              1.53|\n",
      "|         WHEELS_OFF|     8891|              1.53|\n",
      "|    DEPARTURE_DELAY|     8633|              1.48|\n",
      "|     DEPARTURE_TIME|     8633|              1.48|\n",
      "|        TAIL_NUMBER|     1462|              0.25|\n",
      "|     SCHEDULED_TIME|        1|               0.0|\n",
      "|               YEAR|        0|               0.0|\n",
      "|              MONTH|        0|               0.0|\n",
      "|      FLIGHT_NUMBER|        0|               0.0|\n",
      "|                DAY|        0|               0.0|\n",
      "|        DAY_OF_WEEK|        0|               0.0|\n",
      "|     ORIGIN_AIRPORT|        0|               0.0|\n",
      "|DESTINATION_AIRPORT|        0|               0.0|\n",
      "|           DISTANCE|        0|               0.0|\n",
      "|  SCHEDULED_ARRIVAL|        0|               0.0|\n",
      "|            AIRLINE|        0|               0.0|\n",
      "|SCHEDULED_DEPARTURE|        0|               0.0|\n",
      "|          CANCELLED|        0|               0.0|\n",
      "|           DIVERTED|        0|               0.0|\n",
      "+-------------------+---------+------------------+\n",
      "\n"
     ]
    }
   ],
   "source": [
    "calc_miss(flightsRawDf, schema1).show(len(flightsRawDf.columns))"
   ]
  },
  {
   "cell_type": "markdown",
   "metadata": {},
   "source": [
    "#### CANCELLATION_REASON\n",
    "\n",
    "This would require the flight to be cancelled. If it is not then it wouldn't be filled. This can be checked below."
   ]
  },
  {
   "cell_type": "code",
   "execution_count": 7,
   "metadata": {},
   "outputs": [
    {
     "data": {
      "text/plain": [
       "573213"
      ]
     },
     "execution_count": 7,
     "metadata": {},
     "output_type": "execute_result"
    }
   ],
   "source": [
    "flightsRawDf.select(\"CANCELLED\").filter(col(\"CANCELLED\")==0).count()"
   ]
  },
  {
   "cell_type": "markdown",
   "metadata": {},
   "source": [
    "The number above matched on why there are empty rows in the `CANCELLATION_REASON` as the flights listed here isn't cancelled.\n",
    "\n",
    "#### AIRLINE_DELAY, LATE_AIRCRAFT_DELAY, WEATHER_DELAY, AIR_SYSTEM_DELAY, SECURITY_DELAY\n",
    "\n",
    "Seems to be empty simultaneously. They are columns based on input not calculations. Thus we can say they are missing due to human error.\n",
    "\n",
    "#### ELAPSED_TIME\n",
    "\n",
    "`ELAPSED_TIME` have a dependency on `AIR_TIME`, thus if `AIR_TIME` is missing it is possible that this will cause nulls.\n",
    "\n",
    "#### ARRIVAL_DELAY\n",
    "\n",
    "This column have a dependency on `ARRIVAL_TIME` and `SCHEDULED_ARRIVAL`, thus null `ARRIVAL_TIME` can cause nulls in this column\n",
    "\n",
    "#### AIR_TIME\n",
    "\n",
    "Though not on calculation based, the information is still based on `WHEELS_ON` and `WHEELS_OFF` thus having nulls in these columns can result in nulls in `AIR_TIME`\n",
    "\n",
    "#### TAXI_IN, ARRIVAL_TIME, WHEELS_ON\n",
    "\n",
    "`ARRIVAL_TIME` have dependencies on the other two. If there are nulls in these columns the resulting output will most likely be null. There are equal amount of nulls here which means the missing row does not have any information on any of these columns.\n",
    "\n",
    "#### TAXI_OUT, WHEELS_OFF\n",
    "\n",
    "Though not a calculated column, `TAXI_OUT` still depends on `WHEELS_OFF` column. Time duration elapsed between departure cannot be calculated without `WHEELS_OFF` time.\n",
    "\n",
    "#### DEPARTURE_DELAY, DEPARTURE_TIME\n",
    "\n",
    "Without `DEPARTURE_TIME`, `DEPARTURE_DELAY` cannot be calculated, again, even though it is not a calculated column.\n",
    "\n",
    "#### TAIL_NUMBER\n",
    "\n",
    "This column could be missing at random as it fully depend on human input. \n",
    "\n",
    "### Part 2"
   ]
  },
  {
   "cell_type": "code",
   "execution_count": 8,
   "metadata": {},
   "outputs": [],
   "source": [
    "x = 10\n",
    "\n",
    "def find_removed_columns(x, flightsRawDf):\n",
    "    data = calc_miss(flightsRawDf, schema1)\n",
    "    filtered = data.filter(col(\"missing_percentage\") > x).select(\"column_name\").collect()\n",
    "    removedColumns = [str(row['column_name']) for row in filtered]\n",
    "    return removedColumns"
   ]
  },
  {
   "cell_type": "code",
   "execution_count": 9,
   "metadata": {},
   "outputs": [],
   "source": [
    "def eliminate_columns(removedColumns, flightsRawDf):\n",
    "    flightsRawDf = flightsRawDf.drop(*[str(x) for x in removedColumns])\n",
    "    return flightsRawDf"
   ]
  },
  {
   "cell_type": "code",
   "execution_count": 10,
   "metadata": {
    "scrolled": true
   },
   "outputs": [
    {
     "name": "stdout",
     "output_type": "stream",
     "text": [
      "The number of columns are 25\n",
      "The number of rows are 582184\n"
     ]
    }
   ],
   "source": [
    "q122 = eliminate_columns(find_removed_columns(x, flightsRawDf), flightsRawDf)\n",
    "print(f\"The number of columns are {len(q122.columns)}\")\n",
    "print(f\"The number of rows are {q122.count()}\")"
   ]
  },
  {
   "cell_type": "code",
   "execution_count": 11,
   "metadata": {},
   "outputs": [
    {
     "name": "stdout",
     "output_type": "stream",
     "text": [
      "The number of columns are 25\n",
      "The number of rows are 571729\n"
     ]
    }
   ],
   "source": [
    "flightsDf = q122.na.drop(\"any\")\n",
    "print(f\"The number of columns are {len(flightsDf.columns)}\")\n",
    "print(f\"The number of rows are {flightsDf.count()}\")"
   ]
  },
  {
   "cell_type": "markdown",
   "metadata": {},
   "source": [
    "## 1.3 Data Labelling\n",
    "\n",
    "### Part 1"
   ]
  },
  {
   "cell_type": "code",
   "execution_count": 12,
   "metadata": {},
   "outputs": [],
   "source": [
    "flightsDf = flightsDf.withColumn(\"binaryArrDelay\", when(col(\"ARRIVAL_DELAY\")> 0,1).otherwise(0)).withColumn(\"binaryDeptDelay\", when(col(\"DEPARTURE_DELAY\")>0,1).otherwise(0))"
   ]
  },
  {
   "cell_type": "markdown",
   "metadata": {},
   "source": [
    "Here we classify:\n",
    "\n",
    "* negative values or less than 5 as *early* or 0\n",
    "\n",
    "* the value between 5 and 20 (inclusive) as *on time* or 1\n",
    "\n",
    "* positive values or more than 20 as *late* or 2"
   ]
  },
  {
   "cell_type": "code",
   "execution_count": 13,
   "metadata": {},
   "outputs": [],
   "source": [
    "flightsDf = flightsDf.withColumn(\"multiClassArrDelay\", when(col(\"ARRIVAL_DELAY\")> 20,2).when(col(\"ARRIVAL_DELAY\") < 5,0).otherwise(1))\\\n",
    ".withColumn(\"multiCassDeptDelay\", when(col(\"DEPARTURE_DELAY\")> 20,2).when(col(\"DEPARTURE_DELAY\") < 5,0).otherwise(1))"
   ]
  },
  {
   "cell_type": "markdown",
   "metadata": {},
   "source": [
    "### Part 2"
   ]
  },
  {
   "cell_type": "code",
   "execution_count": 14,
   "metadata": {},
   "outputs": [],
   "source": [
    "def classify_this(df, column):\n",
    "    the_col = [ x[column] for x in df.select(column).collect()]\n",
    "    \n",
    "    q3, q1 = np.percentile(the_col, [75, 25])\n",
    "    min_val = min(the_col)\n",
    "    max_val = max(the_col)\n",
    "    \n",
    "    if column == \"ARRIVAL_DELAY\":\n",
    "        new_col = \"multiClassArrDelay\"\n",
    "    elif column == \"DEPARTURE_DELAY\":\n",
    "        new_col = \"multiCassDeptDelay\"\n",
    "        \n",
    "    result = df.withColumn(new_col, when(col(column)> q3,2).when(col(column) <= q1,0).otherwise(1))\n",
    "    \n",
    "    return result"
   ]
  },
  {
   "cell_type": "code",
   "execution_count": 15,
   "metadata": {},
   "outputs": [],
   "source": [
    "flightsDf = classify_this(flightsDf, \"ARRIVAL_DELAY\")\n",
    "flightsDf = classify_this(flightsDf, \"DEPARTURE_DELAY\")"
   ]
  },
  {
   "cell_type": "markdown",
   "metadata": {},
   "source": [
    "The question had asked us to group the data to 3 groups so the number of bins is 3. Now to determine the interval, we use the quartile function. With this we can see in what interval that most of data falls, which is between Q3 and Q1 of the data. Anything below will be put as early because it is smaller in the scale if time. Moreover, anything over Q3 is over where most of the data falls."
   ]
  },
  {
   "cell_type": "markdown",
   "metadata": {},
   "source": [
    "## 1.4 Data Exploration / Exploratory Analysis\n",
    "\n",
    "### Part 1"
   ]
  },
  {
   "cell_type": "code",
   "execution_count": 16,
   "metadata": {},
   "outputs": [],
   "source": [
    "def desc_number(df):\n",
    "    cols = df.columns\n",
    "    new_cols = [\"col_name\", \"mean\", \"stdev\", \"min\", \"max\", \"25p\", \"75p\"]\n",
    "    data = []\n",
    "    for c in cols:\n",
    "        new_col = [c]\n",
    "        col = [x[c] for x in df.select(c).collect()]\n",
    "        if type(col[0]) == str:\n",
    "            continue\n",
    "        new_col.append(round(float(np.mean(col)),2)) #mean\n",
    "        new_col.append(round(float(np.std(col)),2)) #stdev\n",
    "        new_col.append(int(min(col)))#min\n",
    "        new_col.append(int(max(col)))#max\n",
    "        new_col.append(int(np.percentile(col, 25)))#25p\n",
    "        new_col.append(int(np.percentile(col, 75)))#75p\n",
    "        data.append(new_col)\n",
    "    new_df = spark.createDataFrame(data, new_cols)\n",
    "    return new_df"
   ]
  },
  {
   "cell_type": "code",
   "execution_count": 17,
   "metadata": {},
   "outputs": [
    {
     "name": "stdout",
     "output_type": "stream",
     "text": [
      "+-------------------+-------+-------+----+----+----+----+\n",
      "|           col_name|   mean|  stdev| min| max| 25p| 75p|\n",
      "+-------------------+-------+-------+----+----+----+----+\n",
      "|               YEAR| 2015.0|    0.0|2015|2015|2015|2015|\n",
      "|              MONTH|   6.54|    3.4|   1|  12|   4|   9|\n",
      "|                DAY|  15.71|   8.77|   1|  31|   8|  23|\n",
      "|        DAY_OF_WEEK|   3.93|   1.98|   1|   7|   2|   6|\n",
      "|      FLIGHT_NUMBER|2160.62|1752.19|   1|7438| 727|3202|\n",
      "|SCHEDULED_DEPARTURE| 1328.7| 483.32|   1|2359| 916|1730|\n",
      "|     DEPARTURE_TIME|1334.71| 496.15|   1|2400| 921|1740|\n",
      "|    DEPARTURE_DELAY|   9.32|  37.43| -48|1670|  -5|   7|\n",
      "|           TAXI_OUT|  16.08|   8.92|   1| 200|  11|  19|\n",
      "|         WHEELS_OFF|1357.02|  497.7|   1|2400| 935|1754|\n",
      "|     SCHEDULED_TIME| 141.89|   75.2|  18| 683|  86| 174|\n",
      "|       ELAPSED_TIME| 137.03|  74.13|  14| 726|  82| 169|\n",
      "|           AIR_TIME| 113.52|  72.12|   7| 684|  60| 144|\n",
      "|           DISTANCE|  824.3| 607.47|  31|4983| 373|1065|\n",
      "|          WHEELS_ON|1472.26|  521.2|   1|2400|1055|1912|\n",
      "|            TAXI_IN|   7.43|   5.61|   1| 202|   4|   9|\n",
      "|  SCHEDULED_ARRIVAL|1494.01| 506.26|   1|2400|1110|1918|\n",
      "|       ARRIVAL_TIME|1477.35|  525.3|   1|2400|1059|1917|\n",
      "|      ARRIVAL_DELAY|   4.47|  39.79| -82|1665| -13|   8|\n",
      "|           DIVERTED|    0.0|    0.0|   0|   0|   0|   0|\n",
      "|          CANCELLED|    0.0|    0.0|   0|   0|   0|   0|\n",
      "|     binaryArrDelay|   0.37|   0.48|   0|   1|   0|   1|\n",
      "|    binaryDeptDelay|   0.37|   0.48|   0|   1|   0|   1|\n",
      "| multiClassArrDelay|   0.97|   0.71|   0|   2|   0|   1|\n",
      "| multiCassDeptDelay|   0.97|   0.72|   0|   2|   0|   1|\n",
      "+-------------------+-------+-------+----+----+----+----+\n",
      "\n"
     ]
    }
   ],
   "source": [
    "desc_number(flightsDf).show(30)"
   ]
  },
  {
   "cell_type": "markdown",
   "metadata": {},
   "source": [
    "### Part 2"
   ]
  },
  {
   "cell_type": "markdown",
   "metadata": {},
   "source": [
    "Here we define that categorical values are values that can be divided into groups rather than presenting them in a continuous respresentation.\n",
    "\n",
    "Before going further, we have assume that all string type columns are categorical columns. This is because they are supposedly name of a given entity for its representation. These columns are:\n",
    "\n",
    "* `AIRLINE`\n",
    "\n",
    "* `TAIL_NUMBER`\n",
    "\n",
    "* `ORIGIN_AIRPORT`\n",
    "\n",
    "* `DESTINATION_AIRPORT`\n",
    "\n",
    "There are several columns that are numerical values that is suppose to be ordinal, in this case categorical\n",
    "\n",
    "* `YEAR` - they represent when the event happened\n",
    "\n",
    "* `MONTH` - they when the event happened\n",
    "\n",
    "* `DAY` - they represent when the event happened\n",
    "\n",
    "* `DAY_OF_WEEK` - they represent when the event happened\n",
    "\n",
    "* `FLIGHT_NUMBER` - flight identifier, not a measure of some sort\n",
    "\n",
    "* `DIVERTED` - boolean of whether the plane diverted or now\n",
    "\n",
    "* `CANCELLED` - boolean of whether the plane cancelled or not\n",
    "\n",
    "* `binaryArrDelay` - boolean if the plane was late at arrival or not\n",
    "\n",
    "* `binaryDeptDelay` - boolean if the plane was late at departure or not\n",
    "\n",
    "* `multiClassArrDelay` - grouping of whether the plane was early, on time, or late upon arrival\n",
    "\n",
    "* `multiCassDeptDelay` - grouping of whether the plane was early, on time, or late upon departure\n",
    "\n",
    "The rest are values of time or time difference thus is not categorical."
   ]
  },
  {
   "cell_type": "code",
   "execution_count": 70,
   "metadata": {},
   "outputs": [],
   "source": [
    "# define list\n",
    "chosen = ['YEAR','MONTH','DAY','DAY_OF_WEEK','AIRLINE','FLIGHT_NUMBER','TAIL_NUMBER','ORIGIN_AIRPORT',\\\n",
    "          'DESTINATION_AIRPORT','DIVERTED','CANCELLED','binaryArrDelay','binaryDeptDelay','multiClassArrDelay',\\\n",
    "          'multiCassDeptDelay']"
   ]
  },
  {
   "cell_type": "code",
   "execution_count": 84,
   "metadata": {},
   "outputs": [],
   "source": [
    "def desc_cat(df, cols):\n",
    "    new_cols = [\"col_name\", \"no_unique\", \"highest_cat\", \"highest_no\"]\n",
    "    data = []\n",
    "    for c in cols:\n",
    "        new_col = [c]\n",
    "        col = [x[c] for x in df.select(c).collect()]\n",
    "        uniq = list(set(col))\n",
    "        new_col.append(len(uniq))\n",
    "        high_cat = []\n",
    "        ren = range(0,len(uniq))\n",
    "        for u in uniq:\n",
    "            high_cat.append(col.count(u))\n",
    "        max_val = max(high_cat)\n",
    "        ind = high_cat.index(max_val)\n",
    "        new_col.append(str(uniq[ind]))\n",
    "        new_col.append(max_val)\n",
    "        data.append(new_col)\n",
    "    new_data = spark.createDataFrame(data, new_cols)\n",
    "    return new_data"
   ]
  },
  {
   "cell_type": "code",
   "execution_count": 86,
   "metadata": {},
   "outputs": [
    {
     "name": "stdout",
     "output_type": "stream",
     "text": [
      "+-------------------+---------+-----------+----------+\n",
      "|           col_name|no_unique|highest_cat|highest_no|\n",
      "+-------------------+---------+-----------+----------+\n",
      "|               YEAR|        1|       2015|    571729|\n",
      "|              MONTH|       12|          7|     51415|\n",
      "|                DAY|       31|         13|     19407|\n",
      "|        DAY_OF_WEEK|        7|          4|     86227|\n",
      "|            AIRLINE|       14|         WN|    123912|\n",
      "|      FLIGHT_NUMBER|     6691|        469|       397|\n",
      "|        TAIL_NUMBER|     4802|     N480HA|       398|\n",
      "|     ORIGIN_AIRPORT|      625|        ATL|     34506|\n",
      "|DESTINATION_AIRPORT|      624|        ATL|     34087|\n",
      "|           DIVERTED|        1|          0|    571729|\n",
      "|          CANCELLED|        1|          0|    571729|\n",
      "|     binaryArrDelay|        2|          0|    362674|\n",
      "|    binaryDeptDelay|        2|          0|    360501|\n",
      "| multiClassArrDelay|        3|          1|    278992|\n",
      "| multiCassDeptDelay|        3|          1|    275565|\n",
      "+-------------------+---------+-----------+----------+\n",
      "\n"
     ]
    }
   ],
   "source": [
    "desc_cat(flightsDf, chosen).show()"
   ]
  },
  {
   "cell_type": "markdown",
   "metadata": {},
   "source": [
    "### Part 3\n",
    "\n",
    "**Part A**"
   ]
  },
  {
   "cell_type": "code",
   "execution_count": 102,
   "metadata": {},
   "outputs": [
    {
     "data": {
      "text/plain": [
       "<AxesSubplot:xlabel='MONTH'>"
      ]
     },
     "execution_count": 102,
     "metadata": {},
     "output_type": "execute_result"
    },
    {
     "data": {
      "image/png": "[encoded data removed]",
      "text/plain": [
       "<Figure size 432x288 with 1 Axes>"
      ]
     },
     "metadata": {
      "needs_background": "light"
     },
     "output_type": "display_data"
    }
   ],
   "source": [
    "q143a = flightsDf.groupBy(\"MONTH\").agg(F.sum(col(\"binaryArrDelay\")).alias(\"sum\"), F.count(col(\"MONTH\")).alias(\"total\"))\\\n",
    ".withColumn(\"percent\", F.round((col(\"sum\")/col(\"total\"))*100)).orderBy(\"MONTH\").toPandas()\n",
    "\n",
    "q143a.plot.bar(\"MONTH\", \"percent\", ylim = [0,100])"
   ]
  },
  {
   "cell_type": "markdown",
   "metadata": {},
   "source": [
    "**Part B**"
   ]
  },
  {
   "cell_type": "code",
   "execution_count": 104,
   "metadata": {},
   "outputs": [
    {
     "data": {
      "text/plain": [
       "<AxesSubplot:xlabel='DAY_OF_WEEK'>"
      ]
     },
     "execution_count": 104,
     "metadata": {},
     "output_type": "execute_result"
    },
    {
     "data": {
      "image/png": "[encoded data removed]",
      "text/plain": [
       "<Figure size 432x288 with 1 Axes>"
      ]
     },
     "metadata": {
      "needs_background": "light"
     },
     "output_type": "display_data"
    }
   ],
   "source": [
    "q143b = flightsDf.groupBy(\"DAY_OF_WEEK\").agg(F.sum(col(\"binaryArrDelay\")).alias(\"sum\"), F.count(col(\"DAY_OF_WEEK\")).alias(\"total\"))\\\n",
    ".withColumn(\"percent\", F.round((col(\"sum\")/col(\"total\"))*100)).orderBy(\"DAY_OF_WEEK\").toPandas()\n",
    "\n",
    "q143b.plot.bar(\"DAY_OF_WEEK\", \"percent\", ylim = [0,100])"
   ]
  },
  {
   "cell_type": "markdown",
   "metadata": {},
   "source": [
    "**Part C**"
   ]
  },
  {
   "cell_type": "code",
   "execution_count": 135,
   "metadata": {
    "scrolled": true
   },
   "outputs": [
    {
     "data": {
      "text/plain": [
       "<AxesSubplot:xlabel='AIRLINE'>"
      ]
     },
     "execution_count": 135,
     "metadata": {},
     "output_type": "execute_result"
    },
    {
     "data": {
      "image/png": "[encoded data removed]",
      "text/plain": [
       "<Figure size 432x288 with 1 Axes>"
      ]
     },
     "metadata": {
      "needs_background": "light"
     },
     "output_type": "display_data"
    }
   ],
   "source": [
    "q143c = flightsDf.groupBy(\"AIRLINE\").agg(F.sum(col(\"binaryDeptDelay\")).alias(\"sum\"))\n",
    "summed = sum([x[\"sum\"] for x in q143c.select(\"sum\").collect()])\n",
    "q143c = q143c.withColumn(\"percent\", F.round((col(\"sum\")/summed)*100, 1)).toPandas()\n",
    "\n",
    "q143c.plot.bar(\"AIRLINE\", \"percent\", ylim = [0,100])"
   ]
  },
  {
   "cell_type": "markdown",
   "metadata": {},
   "source": [
    "# 2. Feature extraction and ML Training\n",
    "\n",
    "## Discuss the feature selection and prepare the feature columns\n",
    "\n",
    "We shall go through each columns one by one\n",
    "\n",
    "**YEAR**\n",
    "\n",
    "We can see from section 1.4.2 that there are only one single value within this database for `YEAR`, thus we can omit that as all data will have the same value. This means that this value won't impact towards our result.\n",
    "\n",
    "**MONTH**"
   ]
  },
  {
   "cell_type": "code",
   "execution_count": 114,
   "metadata": {},
   "outputs": [
    {
     "data": {
      "text/plain": [
       "['YEAR',\n",
       " 'MONTH',\n",
       " 'DAY',\n",
       " 'DAY_OF_WEEK',\n",
       " 'AIRLINE',\n",
       " 'FLIGHT_NUMBER',\n",
       " 'TAIL_NUMBER',\n",
       " 'ORIGIN_AIRPORT',\n",
       " 'DESTINATION_AIRPORT',\n",
       " 'SCHEDULED_DEPARTURE',\n",
       " 'DEPARTURE_TIME',\n",
       " 'DEPARTURE_DELAY',\n",
       " 'TAXI_OUT',\n",
       " 'WHEELS_OFF',\n",
       " 'SCHEDULED_TIME',\n",
       " 'ELAPSED_TIME',\n",
       " 'AIR_TIME',\n",
       " 'DISTANCE',\n",
       " 'WHEELS_ON',\n",
       " 'TAXI_IN',\n",
       " 'SCHEDULED_ARRIVAL',\n",
       " 'ARRIVAL_TIME',\n",
       " 'ARRIVAL_DELAY',\n",
       " 'DIVERTED',\n",
       " 'CANCELLED',\n",
       " 'binaryArrDelay',\n",
       " 'binaryDeptDelay',\n",
       " 'multiClassArrDelay',\n",
       " 'multiCassDeptDelay']"
      ]
     },
     "execution_count": 114,
     "metadata": {},
     "output_type": "execute_result"
    }
   ],
   "source": [
    "flightsDf.columns"
   ]
  },
  {
   "cell_type": "code",
   "execution_count": 19,
   "metadata": {},
   "outputs": [],
   "source": [
    "a = flightsDf.toPandas()"
   ]
  },
  {
   "cell_type": "code",
   "execution_count": 23,
   "metadata": {},
   "outputs": [],
   "source": [
    "a[\"ARRIVAL_DELAY\"] = a.ARRIVAL_DELAY.astype('category')"
   ]
  },
  {
   "cell_type": "code",
   "execution_count": 89,
   "metadata": {},
   "outputs": [
    {
     "data": {
      "text/plain": [
       "469     397\n",
       "326     353\n",
       "327     353\n",
       "223     348\n",
       "520     342\n",
       "       ... \n",
       "6856      1\n",
       "5993      1\n",
       "6560      1\n",
       "6745      1\n",
       "5949      1\n",
       "Name: FLIGHT_NUMBER, Length: 6691, dtype: int64"
      ]
     },
     "execution_count": 89,
     "metadata": {},
     "output_type": "execute_result"
    }
   ],
   "source": [
    "a.FLIGHT_NUMBER.value_counts()"
   ]
  },
  {
   "cell_type": "code",
   "execution_count": 90,
   "metadata": {},
   "outputs": [
    {
     "data": {
      "text/plain": [
       "571729"
      ]
     },
     "execution_count": 90,
     "metadata": {},
     "output_type": "execute_result"
    }
   ],
   "source": [
    "flightsDf.count()"
   ]
  },
  {
   "cell_type": "code",
   "execution_count": 46,
   "metadata": {},
   "outputs": [
    {
     "data": {
      "text/plain": [
       "1"
      ]
     },
     "execution_count": 46,
     "metadata": {},
     "output_type": "execute_result"
    }
   ],
   "source": [
    "sorted(list(set((2,7,1,3,4,5,7,7,8))))[0]"
   ]
  },
  {
   "cell_type": "code",
   "execution_count": null,
   "metadata": {},
   "outputs": [],
   "source": []
  }
 ],
 "metadata": {
  "kernelspec": {
   "display_name": "Python 3",
   "language": "python",
   "name": "python3"
  },
  "language_info": {
   "codemirror_mode": {
    "name": "ipython",
    "version": 3
   },
   "file_extension": ".py",
   "mimetype": "text/x-python",
   "name": "python",
   "nbconvert_exporter": "python",
   "pygments_lexer": "ipython3",
   "version": "3.8.2"
  }
 },
 "nbformat": 4,
 "nbformat_minor": 5
}
